{
  "nbformat": 4,
  "nbformat_minor": 0,
  "metadata": {
    "colab": {
      "name": "Datathon(attempt at random forest and logistic regression).ipynb",
      "provenance": [],
      "collapsed_sections": []
    },
    "kernelspec": {
      "name": "python3",
      "display_name": "Python 3"
    }
  },
  "cells": [
    {
      "cell_type": "code",
      "metadata": {
        "id": "BqgHpdRU9jA0",
        "colab": {
          "base_uri": "https://localhost:8080/"
        },
        "outputId": "9f52d0bc-077d-43c9-9e07-b3c7a1e51eb9"
      },
      "source": [
        "import numpy as np\r\n",
        "import pandas as pd\r\n",
        "import matplotlib.pyplot as plt\r\n",
        "from sklearn.model_selection import train_test_split\r\n",
        "from sklearn.ensemble import RandomForestClassifier\r\n",
        "from sklearn.metrics import f1_score,accuracy_score\r\n",
        "import seaborn as sns # for visualisation\r\n",
        "# ignoring the warnings\r\n",
        "import warnings\r\n",
        "warnings.filterwarnings('ignore')\r\n",
        "!pip install boruta\r\n",
        "from boruta import BorutaPy\r\n",
        "tax_data  = pd.read_csv(\"https://raw.githubusercontent.com/dphi-official/Datasets/master/tax_payers/train_set_label.csv\" )\r\n",
        "test_data = pd.read_csv('https://raw.githubusercontent.com/dphi-official/Datasets/master/tax_payers/test_set_label.csv')"
      ],
      "execution_count": 41,
      "outputs": [
        {
          "output_type": "stream",
          "text": [
            "Requirement already satisfied: boruta in /usr/local/lib/python3.6/dist-packages (0.3)\n",
            "Requirement already satisfied: numpy>=1.10.4 in /usr/local/lib/python3.6/dist-packages (from boruta) (1.18.5)\n",
            "Requirement already satisfied: scipy>=0.17.0 in /usr/local/lib/python3.6/dist-packages (from boruta) (1.4.1)\n",
            "Requirement already satisfied: scikit-learn>=0.17.1 in /usr/local/lib/python3.6/dist-packages (from boruta) (0.22.2.post1)\n",
            "Requirement already satisfied: joblib>=0.11 in /usr/local/lib/python3.6/dist-packages (from scikit-learn>=0.17.1->boruta) (0.17.0)\n"
          ],
          "name": "stdout"
        }
      ]
    },
    {
      "cell_type": "code",
      "metadata": {
        "id": "yGxnNigJ-JcJ",
        "colab": {
          "base_uri": "https://localhost:8080/",
          "height": 198
        },
        "outputId": "773b3857-0327-4db2-fd90-f73580513495"
      },
      "source": [
        "tax_data.head()"
      ],
      "execution_count": 38,
      "outputs": [
        {
          "output_type": "execute_result",
          "data": {
            "text/html": [
              "<div>\n",
              "<style scoped>\n",
              "    .dataframe tbody tr th:only-of-type {\n",
              "        vertical-align: middle;\n",
              "    }\n",
              "\n",
              "    .dataframe tbody tr th {\n",
              "        vertical-align: top;\n",
              "    }\n",
              "\n",
              "    .dataframe thead th {\n",
              "        text-align: right;\n",
              "    }\n",
              "</style>\n",
              "<table border=\"1\" class=\"dataframe\">\n",
              "  <thead>\n",
              "    <tr style=\"text-align: right;\">\n",
              "      <th></th>\n",
              "      <th>Unnamed: 0</th>\n",
              "      <th>HHI</th>\n",
              "      <th>HHDL</th>\n",
              "      <th>Married</th>\n",
              "      <th>CollegGrads</th>\n",
              "      <th>AHHAge</th>\n",
              "      <th>Cars</th>\n",
              "      <th>Filed in 2017</th>\n",
              "      <th>Filed in 2016</th>\n",
              "      <th>Filed in 2015</th>\n",
              "      <th>PoliticalParty</th>\n",
              "    </tr>\n",
              "  </thead>\n",
              "  <tbody>\n",
              "    <tr>\n",
              "      <th>0</th>\n",
              "      <td>61</td>\n",
              "      <td>183414</td>\n",
              "      <td>-12402</td>\n",
              "      <td>1</td>\n",
              "      <td>2</td>\n",
              "      <td>28</td>\n",
              "      <td>1</td>\n",
              "      <td>0</td>\n",
              "      <td>0</td>\n",
              "      <td>1</td>\n",
              "      <td>Democrat</td>\n",
              "    </tr>\n",
              "    <tr>\n",
              "      <th>1</th>\n",
              "      <td>501</td>\n",
              "      <td>129786</td>\n",
              "      <td>700251</td>\n",
              "      <td>2</td>\n",
              "      <td>5</td>\n",
              "      <td>63</td>\n",
              "      <td>3</td>\n",
              "      <td>0</td>\n",
              "      <td>0</td>\n",
              "      <td>0</td>\n",
              "      <td>Republican</td>\n",
              "    </tr>\n",
              "    <tr>\n",
              "      <th>2</th>\n",
              "      <td>658</td>\n",
              "      <td>268343</td>\n",
              "      <td>493411</td>\n",
              "      <td>2</td>\n",
              "      <td>4</td>\n",
              "      <td>44</td>\n",
              "      <td>1</td>\n",
              "      <td>1</td>\n",
              "      <td>0</td>\n",
              "      <td>1</td>\n",
              "      <td>Independent</td>\n",
              "    </tr>\n",
              "    <tr>\n",
              "      <th>3</th>\n",
              "      <td>703</td>\n",
              "      <td>290506</td>\n",
              "      <td>-433408</td>\n",
              "      <td>1</td>\n",
              "      <td>1</td>\n",
              "      <td>28</td>\n",
              "      <td>5</td>\n",
              "      <td>1</td>\n",
              "      <td>0</td>\n",
              "      <td>1</td>\n",
              "      <td>Republican</td>\n",
              "    </tr>\n",
              "    <tr>\n",
              "      <th>4</th>\n",
              "      <td>702</td>\n",
              "      <td>90108</td>\n",
              "      <td>907135</td>\n",
              "      <td>1</td>\n",
              "      <td>3</td>\n",
              "      <td>57</td>\n",
              "      <td>5</td>\n",
              "      <td>1</td>\n",
              "      <td>1</td>\n",
              "      <td>0</td>\n",
              "      <td>Democrat</td>\n",
              "    </tr>\n",
              "  </tbody>\n",
              "</table>\n",
              "</div>"
            ],
            "text/plain": [
              "   Unnamed: 0     HHI    HHDL  ...  Filed in 2016  Filed in 2015  PoliticalParty\n",
              "0          61  183414  -12402  ...              0              1        Democrat\n",
              "1         501  129786  700251  ...              0              0      Republican\n",
              "2         658  268343  493411  ...              0              1     Independent\n",
              "3         703  290506 -433408  ...              0              1      Republican\n",
              "4         702   90108  907135  ...              1              0        Democrat\n",
              "\n",
              "[5 rows x 11 columns]"
            ]
          },
          "metadata": {
            "tags": []
          },
          "execution_count": 38
        }
      ]
    },
    {
      "cell_type": "code",
      "metadata": {
        "colab": {
          "base_uri": "https://localhost:8080/",
          "height": 449
        },
        "id": "Rj_3Yu8FVGNF",
        "outputId": "dfbf4ec1-b2cc-459f-efd3-e283f12f7adb"
      },
      "source": [
        "corrmat = tax_data.corr()\r\n",
        "plt.figure(figsize=(10,6))\r\n",
        "sns.heatmap(corrmat, annot=True, cmap=\"RdYlGn\")"
      ],
      "execution_count": 42,
      "outputs": [
        {
          "output_type": "execute_result",
          "data": {
            "text/plain": [
              "<matplotlib.axes._subplots.AxesSubplot at 0x7f742cfa3080>"
            ]
          },
          "metadata": {
            "tags": []
          },
          "execution_count": 42
        },
        {
          "output_type": "display_data",
          "data": {
            "image/png": "[encoded data removed]",
            "text/plain": [
              "<Figure size 720x432 with 2 Axes>"
            ]
          },
          "metadata": {
            "tags": [],
            "needs_background": "light"
          }
        }
      ]
    },
    {
      "cell_type": "code",
      "metadata": {
        "colab": {
          "base_uri": "https://localhost:8080/"
        },
        "id": "ZOS3OpcFFWyn",
        "outputId": "cabefa25-e4a5-4825-84f2-74d119c12874"
      },
      "source": [
        ""
      ],
      "execution_count": null,
      "outputs": [
        {
          "output_type": "execute_result",
          "data": {
            "text/plain": [
              "Index(['Unnamed: 0', 'HHI', 'HHDL', 'Married', 'CollegGrads', 'AHHAge', 'Cars',\n",
              "       'Filed in 2017', 'Filed in 2016', 'Filed in 2015', 'PoliticalParty'],\n",
              "      dtype='object')"
            ]
          },
          "metadata": {
            "tags": []
          },
          "execution_count": 27
        }
      ]
    },
    {
      "cell_type": "code",
      "metadata": {
        "id": "bE1KYtMpIoDR"
      },
      "source": [
        "X=tax_data.drop(['PoliticalParty'],axis=1)\r\n",
        "#test_data=test_data.drop(['Filed in 2017', 'Filed in 2016','Married', 'CollegGrads', 'AHHAge', 'Filed in 2015'],axis=1)\r\n",
        "Y=tax_data[['PoliticalParty']]"
      ],
      "execution_count": 43,
      "outputs": []
    },
    {
      "cell_type": "code",
      "metadata": {
        "id": "WsA_R2S4Kr1J"
      },
      "source": [
        "X_train, X_test, y_train, y_test = train_test_split(X, Y, test_size = 0.25)"
      ],
      "execution_count": 45,
      "outputs": []
    },
    {
      "cell_type": "code",
      "metadata": {
        "id": "zV99C31iVkSW"
      },
      "source": [
        "from sklearn.linear_model import LogisticRegression\r\n",
        "\r\n",
        "clf_lr = LogisticRegression(random_state = 1)      \r\n",
        "lr_baseline_model = clf_lr.fit(X_train,y_train)"
      ],
      "execution_count": 46,
      "outputs": []
    },
    {
      "cell_type": "code",
      "metadata": {
        "colab": {
          "base_uri": "https://localhost:8080/"
        },
        "id": "IDlV926lVkOS",
        "outputId": "55410968-00d6-43dc-a00c-8f13ddac20c6"
      },
      "source": [
        "y_pred = lr_baseline_model.predict(X_test)\r\n",
        "# Calculating the accuracy and F1 Score by comparing the actual and predicted values\r\n",
        "ac = accuracy_score(y_test, y_pred)\r\n",
        "print(\"Baseline Model Accuracy:\", ac)"
      ],
      "execution_count": 49,
      "outputs": [
        {
          "output_type": "stream",
          "text": [
            "Baseline Model Accuracy: 0.31840796019900497\n"
          ],
          "name": "stdout"
        }
      ]
    },
    {
      "cell_type": "code",
      "metadata": {
        "colab": {
          "base_uri": "https://localhost:8080/"
        },
        "id": "1aIg3TEqVkLD",
        "outputId": "70d175da-5b68-4088-a82b-d658e569db69"
      },
      "source": [
        "from sklearn.feature_selection import RFE #importing RFE class from sklearn library\r\n",
        "\r\n",
        "rfe = RFE(estimator= clf_lr , step = 1) \r\n",
        "# estimator clf_lr is the baseline model (basic model) that we have created under \"Base line Model\" selection\r\n",
        "# step = 1: removes one feature at a time and then builds a model on the remaining features\r\n",
        "# It uses the model accuracy to identify which features (and combination of features) contribute the most to predicting the target variable.\r\n",
        "# we can even provide no. of features as an argument \r\n",
        "\r\n",
        "# Fit the function for ranking the features\r\n",
        "fit = rfe.fit(X_train, y_train)\r\n",
        "\r\n",
        "print(\"Num Features: %d\" % fit.n_features_)\r\n",
        "print(\"Selected Features: %s\" % fit.support_)\r\n",
        "print(\"Feature Ranking: %s\" % fit.ranking_)"
      ],
      "execution_count": 51,
      "outputs": [
        {
          "output_type": "stream",
          "text": [
            "Num Features: 5\n",
            "Selected Features: [ True  True False False  True  True  True False False False]\n",
            "Feature Ranking: [1 1 6 4 1 1 1 2 5 3]\n"
          ],
          "name": "stdout"
        }
      ]
    },
    {
      "cell_type": "code",
      "metadata": {
        "colab": {
          "base_uri": "https://localhost:8080/",
          "height": 349
        },
        "id": "hf5dV4rSVkH3",
        "outputId": "bf07ea80-25b9-4df8-a645-2dc66df416d0"
      },
      "source": [
        "selected_rfe_features = pd.DataFrame({'Feature':list(X_train.columns),\r\n",
        "                                      'Ranking':rfe.ranking_})\r\n",
        "selected_rfe_features.sort_values(by='Ranking')"
      ],
      "execution_count": 52,
      "outputs": [
        {
          "output_type": "execute_result",
          "data": {
            "text/html": [
              "<div>\n",
              "<style scoped>\n",
              "    .dataframe tbody tr th:only-of-type {\n",
              "        vertical-align: middle;\n",
              "    }\n",
              "\n",
              "    .dataframe tbody tr th {\n",
              "        vertical-align: top;\n",
              "    }\n",
              "\n",
              "    .dataframe thead th {\n",
              "        text-align: right;\n",
              "    }\n",
              "</style>\n",
              "<table border=\"1\" class=\"dataframe\">\n",
              "  <thead>\n",
              "    <tr style=\"text-align: right;\">\n",
              "      <th></th>\n",
              "      <th>Feature</th>\n",
              "      <th>Ranking</th>\n",
              "    </tr>\n",
              "  </thead>\n",
              "  <tbody>\n",
              "    <tr>\n",
              "      <th>0</th>\n",
              "      <td>Unnamed: 0</td>\n",
              "      <td>1</td>\n",
              "    </tr>\n",
              "    <tr>\n",
              "      <th>1</th>\n",
              "      <td>HHI</td>\n",
              "      <td>1</td>\n",
              "    </tr>\n",
              "    <tr>\n",
              "      <th>4</th>\n",
              "      <td>CollegGrads</td>\n",
              "      <td>1</td>\n",
              "    </tr>\n",
              "    <tr>\n",
              "      <th>5</th>\n",
              "      <td>AHHAge</td>\n",
              "      <td>1</td>\n",
              "    </tr>\n",
              "    <tr>\n",
              "      <th>6</th>\n",
              "      <td>Cars</td>\n",
              "      <td>1</td>\n",
              "    </tr>\n",
              "    <tr>\n",
              "      <th>7</th>\n",
              "      <td>Filed in 2017</td>\n",
              "      <td>2</td>\n",
              "    </tr>\n",
              "    <tr>\n",
              "      <th>9</th>\n",
              "      <td>Filed in 2015</td>\n",
              "      <td>3</td>\n",
              "    </tr>\n",
              "    <tr>\n",
              "      <th>3</th>\n",
              "      <td>Married</td>\n",
              "      <td>4</td>\n",
              "    </tr>\n",
              "    <tr>\n",
              "      <th>8</th>\n",
              "      <td>Filed in 2016</td>\n",
              "      <td>5</td>\n",
              "    </tr>\n",
              "    <tr>\n",
              "      <th>2</th>\n",
              "      <td>HHDL</td>\n",
              "      <td>6</td>\n",
              "    </tr>\n",
              "  </tbody>\n",
              "</table>\n",
              "</div>"
            ],
            "text/plain": [
              "         Feature  Ranking\n",
              "0     Unnamed: 0        1\n",
              "1            HHI        1\n",
              "4    CollegGrads        1\n",
              "5         AHHAge        1\n",
              "6           Cars        1\n",
              "7  Filed in 2017        2\n",
              "9  Filed in 2015        3\n",
              "3        Married        4\n",
              "8  Filed in 2016        5\n",
              "2           HHDL        6"
            ]
          },
          "metadata": {
            "tags": []
          },
          "execution_count": 52
        }
      ]
    },
    {
      "cell_type": "code",
      "metadata": {
        "id": "5S65XESBVkCu"
      },
      "source": [
        "X_train_rfe = rfe.transform(X_train)\r\n",
        "X_test_rfe = rfe.transform(X_test)\r\n",
        "\r\n",
        "# Fitting our baseline model with the transformed data\r\n",
        "lr_rfe_model = clf_lr.fit(X_train_rfe, y_train)"
      ],
      "execution_count": 53,
      "outputs": []
    },
    {
      "cell_type": "code",
      "metadata": {
        "colab": {
          "base_uri": "https://localhost:8080/"
        },
        "id": "b2WAGj8bVj4U",
        "outputId": "ab312474-ecb5-4ddb-804a-25c5d2f57ba7"
      },
      "source": [
        "#making predictions and evaluating the model\r\n",
        "y_pred_rfe = lr_rfe_model.predict(X_test_rfe)\r\n",
        "\r\n",
        "rfe_ac = accuracy_score(y_test, y_pred_rfe)\r\n",
        "print(\"RFE Model Accuracy:\", rfe_ac)"
      ],
      "execution_count": 55,
      "outputs": [
        {
          "output_type": "stream",
          "text": [
            "RFE Model Accuracy: 0.3333333333333333\n"
          ],
          "name": "stdout"
        }
      ]
    },
    {
      "cell_type": "code",
      "metadata": {
        "id": "vjbCVpxpLP9B",
        "colab": {
          "base_uri": "https://localhost:8080/",
          "height": 265
        },
        "outputId": "e2165fcf-1809-4f79-d6ce-2746b099875a"
      },
      "source": [
        "from sklearn.ensemble import RandomForestClassifier\r\n",
        "\r\n",
        "# Create a random forest classifier\r\n",
        "rf_clf = RandomForestClassifier(n_estimators=10000, random_state=1, n_jobs=-1)\r\n",
        "\r\n",
        "# n_estimators = The number of trees in the forest.\r\n",
        "# n_jobs = -1 : Use all processors for training\r\n",
        "\r\n",
        "# Train the classifier\r\n",
        "rf_clf.fit(X_train, y_train)\r\n",
        "\r\n",
        "#plot graph of feature importances for better visualization\r\n",
        "feat_importances = pd.Series(rf_clf.feature_importances_, index=X_train.columns)\r\n",
        "feat_importances.nlargest(10).plot(kind='barh')\r\n",
        "plt.show()"
      ],
      "execution_count": 56,
      "outputs": [
        {
          "output_type": "display_data",
          "data": {
            "image/png": "[encoded data removed]",
            "text/plain": [
              "<Figure size 432x288 with 1 Axes>"
            ]
          },
          "metadata": {
            "tags": [],
            "needs_background": "light"
          }
        }
      ]
    },
    {
      "cell_type": "code",
      "metadata": {
        "id": "FECheKIxl6S7"
      },
      "source": [
        "from sklearn.feature_selection import SelectFromModel\r\n",
        "# Create a selector object that will use the random forest classifier to identify\r\n",
        "# It will select the features based on the importance score\r\n",
        "rf_sfm = SelectFromModel(rf_clf)\r\n",
        "\r\n",
        "#Alternatively if you want to set a specific threshold and select the features you may the following code that is commented\r\n",
        "# features that have an importance of more than 0.13 ( all top 4 features lie above this)\r\n",
        "# rf_sfm = SelectFromModel(rf_clf, threshold=0.13)\r\n",
        "\r\n",
        "# Train the selector\r\n",
        "rf_sfm = rf_sfm.fit(X_train, y_train)"
      ],
      "execution_count": 57,
      "outputs": []
    },
    {
      "cell_type": "code",
      "metadata": {
        "id": "TPqDIjz1mQWj"
      },
      "source": [
        "# Transform the data to create a new dataset containing only the most important features\r\n",
        "# Note: We have to apply the transform to both the training X and test X data.\r\n",
        "X_important_train = rf_sfm.transform(X_train)\r\n",
        "X_important_test = rf_sfm.transform(X_test)"
      ],
      "execution_count": 58,
      "outputs": []
    },
    {
      "cell_type": "code",
      "metadata": {
        "id": "69JQNjj4LbSK"
      },
      "source": [
        "# Create a new random forest classifier for the most important features\r\n",
        "clf_important = RandomForestClassifier(n_estimators=10000, random_state=1, n_jobs=-1)\r\n",
        "\r\n",
        "# Train the new classifier on the new dataset containing the most important features\r\n",
        "clf_important = clf_important.fit(X_important_train, y_train)"
      ],
      "execution_count": 59,
      "outputs": []
    },
    {
      "cell_type": "code",
      "metadata": {
        "id": "rE8dSpZ8oJ8E",
        "colab": {
          "base_uri": "https://localhost:8080/"
        },
        "outputId": "bc0d5c2a-bff2-40c9-af46-658fe2285d36"
      },
      "source": [
        "y_pred = rf_clf.predict(X_test)\r\n",
        "rf_ac = accuracy_score(y_test, y_pred)\r\n",
        "# View The Accuracy Of Our Full Feature (8 Features) Model\r\n",
        "print(\"Baseline Model Accuracy:\", rf_ac)"
      ],
      "execution_count": 60,
      "outputs": [
        {
          "output_type": "stream",
          "text": [
            "Baseline Model Accuracy: 0.3383084577114428\n"
          ],
          "name": "stdout"
        }
      ]
    },
    {
      "cell_type": "code",
      "metadata": {
        "id": "8fco_XTBLiyB",
        "colab": {
          "base_uri": "https://localhost:8080/"
        },
        "outputId": "870f6e31-2d1e-4c1c-9d4f-64644de9ad16"
      },
      "source": [
        "y_important_pred = clf_important.predict(X_important_test)\r\n",
        "\r\n",
        "# View The Accuracy Of Our Limited Feature (4 Features) Model\r\n",
        "rf_imp_ac = accuracy_score(y_test, y_important_pred)\r\n",
        "\r\n",
        "print(\"Limited Features Model Accuracy:\", rf_ac)"
      ],
      "execution_count": 61,
      "outputs": [
        {
          "output_type": "stream",
          "text": [
            "Limited Features Model Accuracy: 0.3383084577114428\n"
          ],
          "name": "stdout"
        }
      ]
    },
    {
      "cell_type": "code",
      "metadata": {
        "id": "i0dbbwT9LraC"
      },
      "source": [
        ""
      ],
      "execution_count": null,
      "outputs": []
    },
    {
      "cell_type": "code",
      "metadata": {
        "id": "2-UuOG89L-WB"
      },
      "source": [
        ""
      ],
      "execution_count": null,
      "outputs": []
    },
    {
      "cell_type": "code",
      "metadata": {
        "id": "wyr16V6PMTwC"
      },
      "source": [
        ""
      ],
      "execution_count": null,
      "outputs": []
    },
    {
      "cell_type": "code",
      "metadata": {
        "colab": {
          "base_uri": "https://localhost:8080/",
          "height": 17
        },
        "id": "ty-VjJNLMgRJ",
        "outputId": "02177e01-1f21-43cd-81fb-1ab4ab2ddd73"
      },
      "source": [
        "predictions = model.predict(test_data) # you must do a pre-processing on your evaluation data\r\n",
        "# To create Dataframe of predicted value with particular respective index\r\n",
        "res = pd.DataFrame(predictions) #preditcions are nothing but the final predictions of your model on input features of your new unseen test data\r\n",
        "res.index = test_data.index # its important for comparison. Here \"test_new\" is your new test dataset\r\n",
        "res.columns = [\"prediction\"]\r\n",
        "\r\n",
        "# To download the csv file locally\r\n",
        "from google.colab import files\r\n",
        "res.to_csv('prediction_results.csv')         \r\n",
        "files.download('prediction_results.csv')"
      ],
      "execution_count": null,
      "outputs": [
        {
          "output_type": "display_data",
          "data": {
            "application/javascript": [
              "\n",
              "    async function download(id, filename, size) {\n",
              "      if (!google.colab.kernel.accessAllowed) {\n",
              "        return;\n",
              "      }\n",
              "      const div = document.createElement('div');\n",
              "      const label = document.createElement('label');\n",
              "      label.textContent = `Downloading \"${filename}\": `;\n",
              "      div.appendChild(label);\n",
              "      const progress = document.createElement('progress');\n",
              "      progress.max = size;\n",
              "      div.appendChild(progress);\n",
              "      document.body.appendChild(div);\n",
              "\n",
              "      const buffers = [];\n",
              "      let downloaded = 0;\n",
              "\n",
              "      const channel = await google.colab.kernel.comms.open(id);\n",
              "      // Send a message to notify the kernel that we're ready.\n",
              "      channel.send({})\n",
              "\n",
              "      for await (const message of channel.messages) {\n",
              "        // Send a message to notify the kernel that we're ready.\n",
              "        channel.send({})\n",
              "        if (message.buffers) {\n",
              "          for (const buffer of message.buffers) {\n",
              "            buffers.push(buffer);\n",
              "            downloaded += buffer.byteLength;\n",
              "            progress.value = downloaded;\n",
              "          }\n",
              "        }\n",
              "      }\n",
              "      const blob = new Blob(buffers, {type: 'application/binary'});\n",
              "      const a = document.createElement('a');\n",
              "      a.href = window.URL.createObjectURL(blob);\n",
              "      a.download = filename;\n",
              "      div.appendChild(a);\n",
              "      a.click();\n",
              "      div.remove();\n",
              "    }\n",
              "  "
            ],
            "text/plain": [
              "<IPython.core.display.Javascript object>"
            ]
          },
          "metadata": {
            "tags": []
          }
        },
        {
          "output_type": "display_data",
          "data": {
            "application/javascript": [
              "download(\"download_18f0d398-671a-414a-8458-1a19d71cd89d\", \"prediction_results.csv\", 2820)"
            ],
            "text/plain": [
              "<IPython.core.display.Javascript object>"
            ]
          },
          "metadata": {
            "tags": []
          }
        }
      ]
    },
    {
      "cell_type": "code",
      "metadata": {
        "id": "PYN7xcwvlgbQ"
      },
      "source": [
        ""
      ],
      "execution_count": null,
      "outputs": []
    }
  ]
}